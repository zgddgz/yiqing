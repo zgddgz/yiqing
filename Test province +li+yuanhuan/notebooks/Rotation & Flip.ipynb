{
 "cells": [
  {
   "cell_type": "code",
   "execution_count": 4,
   "metadata": {
    "ExecuteTime": {
     "end_time": "2016-11-02T18:22:19.198221",
     "start_time": "2016-11-02T18:22:19.191290"
    },
    "collapsed": false,
    "run_control": {
     "frozen": false,
     "read_only": false
    }
   },
   "outputs": [],
   "source": [
    "%matplotlib inline\n",
    "import numpy as np\n",
    "from matplotlib import pyplot as plt"
   ]
  },
  {
   "cell_type": "code",
   "execution_count": 5,
   "metadata": {
    "ExecuteTime": {
     "end_time": "2016-11-02T18:22:19.406877",
     "start_time": "2016-11-02T18:22:19.404128"
    },
    "collapsed": true
   },
   "outputs": [],
   "source": [
    "from cleanlabels.geometry import Box"
   ]
  },
  {
   "cell_type": "code",
   "execution_count": 7,
   "metadata": {
    "ExecuteTime": {
     "end_time": "2016-11-02T18:22:35.069367",
     "start_time": "2016-11-02T18:22:34.855801"
    },
    "collapsed": false
   },
   "outputs": [
    {
     "data": {
      "image/png": "[encoded data removed]",
      "text/plain": [
       "<matplotlib.figure.Figure at 0x7fbbbbd7f160>"
      ]
     },
     "metadata": {},
     "output_type": "display_data"
    }
   ],
   "source": [
    "ax = plt.gca()\n",
    "\n",
    "box = Box(2, 2, 3, 3)\n",
    "patch = box.rectangle_patch(fill=True, color='red')\n",
    "\n",
    "point = np.array([1, 1])\n",
    "\n",
    "rotated = box.rotate_around_point(point, 3/4 * np.pi)\n",
    "patch_rotated = rotated.rectangle_patch(fill=True, color='blue')\n",
    "\n",
    "flipped_x = box.flip(point[0], axis=0).flip(point[0], axis=0).flip(point[0], axis=0)\n",
    "flipped_y = box.flip(point[1], axis=1)\n",
    "patch_flipped_x = flipped_x.rectangle_patch(fill=True, color='orange')\n",
    "patch_flipped_y = flipped_y.rectangle_patch(fill=True, color='green')\n",
    "\n",
    "\n",
    "ax.add_patch(patch)\n",
    "ax.add_patch(patch_rotated)\n",
    "ax.add_patch(patch_flipped_x)\n",
    "ax.add_patch(patch_flipped_y)\n",
    "\n",
    "plt.scatter(point[0], point[1])\n",
    "\n",
    "plt.show()\n",
    "\n"
   ]
  },
  {
   "cell_type": "code",
   "execution_count": null,
   "metadata": {
    "collapsed": true
   },
   "outputs": [],
   "source": []
  }
 ],
 "metadata": {
  "hide_input": false,
  "kernelspec": {
   "display_name": "Python 3",
   "language": "python",
   "name": "python3"
  },
  "language_info": {
   "codemirror_mode": {
    "name": "ipython",
    "version": 3
   },
   "file_extension": ".py",
   "mimetype": "text/x-python",
   "name": "python",
   "nbconvert_exporter": "python",
   "pygments_lexer": "ipython3",
   "version": "3.4.3"
  },
  "latex_envs": {
   "bibliofile": "biblio.bib",
   "cite_by": "apalike",
   "current_citInitial": 1,
   "eqLabelWithNumbers": true,
   "eqNumInitial": 0
  }
 },
 "nbformat": 4,
 "nbformat_minor": 0
}
