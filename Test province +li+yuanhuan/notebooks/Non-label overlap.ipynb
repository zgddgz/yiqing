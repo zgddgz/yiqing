{
 "cells": [
  {
   "cell_type": "code",
   "execution_count": 1,
   "metadata": {
    "ExecuteTime": {
     "end_time": "2016-11-02T14:20:45.372584",
     "start_time": "2016-11-02T14:20:45.043770"
    },
    "collapsed": false,
    "run_control": {
     "frozen": false,
     "read_only": false
    }
   },
   "outputs": [
    {
     "name": "stderr",
     "output_type": "stream",
     "text": [
      "/home/saulius/.virtualenvs/scientific-py3/lib/python3.5/site-packages/matplotlib/__init__.py:872: UserWarning: axes.color_cycle is deprecated and replaced with axes.prop_cycle; please use the latter.\n",
      "  warnings.warn(self.msg_depr % (key, alt_key))\n"
     ]
    }
   ],
   "source": [
    "%matplotlib inline\n",
    "import numpy as np\n",
    "from matplotlib import pyplot as plt"
   ]
  },
  {
   "cell_type": "code",
   "execution_count": 4,
   "metadata": {
    "ExecuteTime": {
     "end_time": "2016-11-02T14:22:16.670710",
     "start_time": "2016-11-02T14:22:16.665293"
    },
    "collapsed": true
   },
   "outputs": [],
   "source": [
    "from cleanlabels.cleanlabels import point_bounding_box\n",
    "from cleanlabels.geometry import Box"
   ]
  },
  {
   "cell_type": "code",
   "execution_count": 28,
   "metadata": {
    "ExecuteTime": {
     "end_time": "2016-11-02T14:27:00.297781",
     "start_time": "2016-11-02T14:26:59.885875"
    },
    "collapsed": false
   },
   "outputs": [
    {
     "data": {
      "text/plain": [
       "[]"
      ]
     },
     "execution_count": 28,
     "metadata": {},
     "output_type": "execute_result"
    },
    {
     "data": {
      "image/png": "[encoded data removed]",
      "text/plain": [
       "<matplotlib.figure.Figure at 0x7f1bca231470>"
      ]
     },
     "metadata": {},
     "output_type": "display_data"
    }
   ],
   "source": [
    "ax = plt.gca()\n",
    "\n",
    "random = np.random.RandomState(42)\n",
    "\n",
    "box = Box(1, 1, 3, 3)\n",
    "patch = box.rectangle_patch(fill=True, color='blue', alpha=.3)\n",
    "\n",
    "points = random.randn(50, 2) + 2\n",
    "\n",
    "ax.add_patch(patch)\n",
    "point_bboxes = []\n",
    "for i in range(len(points)):\n",
    "    point_bboxes.append(point_bounding_box(points[i], point_radius=0.05))\n",
    "    \n",
    "plt.scatter(points[:, 0], points[:, 1])\n",
    "\n",
    "for point_bbox in point_bboxes:\n",
    "    ax.add_patch(point_bbox.rectangle_patch(fill=True, color='red', alpha=.3))\n",
    "\n",
    "plt.plot()\n"
   ]
  },
  {
   "cell_type": "code",
   "execution_count": 20,
   "metadata": {
    "ExecuteTime": {
     "end_time": "2016-11-02T14:24:45.890438",
     "start_time": "2016-11-02T14:24:45.884575"
    },
    "collapsed": false
   },
   "outputs": [
    {
     "data": {
      "text/plain": [
       "array([[ 2.49671415,  1.8617357 ],\n",
       "       [ 2.64768854,  3.52302986],\n",
       "       [ 1.76584663,  1.76586304],\n",
       "       [ 3.57921282,  2.76743473],\n",
       "       [ 1.53052561,  2.54256004],\n",
       "       [ 1.53658231,  1.53427025],\n",
       "       [ 2.24196227,  0.08671976],\n",
       "       [ 0.27508217,  1.43771247],\n",
       "       [ 0.98716888,  2.31424733],\n",
       "       [ 1.09197592,  0.5876963 ]])"
      ]
     },
     "execution_count": 20,
     "metadata": {},
     "output_type": "execute_result"
    }
   ],
   "source": [
    "points"
   ]
  },
  {
   "cell_type": "code",
   "execution_count": null,
   "metadata": {
    "collapsed": true
   },
   "outputs": [],
   "source": []
  }
 ],
 "metadata": {
  "hide_input": false,
  "kernelspec": {
   "display_name": "Python 3",
   "language": "python",
   "name": "python3"
  },
  "language_info": {
   "codemirror_mode": {
    "name": "ipython",
    "version": 3
   },
   "file_extension": ".py",
   "mimetype": "text/x-python",
   "name": "python",
   "nbconvert_exporter": "python",
   "pygments_lexer": "ipython3",
   "version": "3.5.2"
  }
 },
 "nbformat": 4,
 "nbformat_minor": 0
}
